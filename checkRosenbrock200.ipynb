{
 "cells": [
  {
   "cell_type": "markdown",
   "metadata": {},
   "source": [
    "Необходимые файлы"
   ]
  },
  {
   "cell_type": "code",
   "execution_count": null,
   "metadata": {},
   "outputs": [],
   "source": [
    "include(\"methods.jl\");\n",
    "include(\"makePlots.jl\");\n",
    "include(\"writeToFile.jl\");\n",
    "include(\"nameOfFiles.jl\");\n",
    "include(\"firstParams.jl\");\n",
    "using  BenchmarkTools"
   ]
  },
  {
   "cell_type": "markdown",
   "metadata": {},
   "source": [
    "Папка функции"
   ]
  },
  {
   "cell_type": "code",
   "execution_count": null,
   "metadata": {},
   "outputs": [],
   "source": [
    "FUNC_DIR::String = ROSEN_200_DIR;"
   ]
  },
  {
   "cell_type": "markdown",
   "metadata": {},
   "source": [
    "Функция Розенброка при α = 10"
   ]
  },
  {
   "cell_type": "code",
   "execution_count": null,
   "metadata": {},
   "outputs": [],
   "source": [
    "f(x) = 200*(x[1]^2 - x[2])^2 + (x[1] - 1)^2;\n",
    "f_string = \"f(x, y) = 200(x² - y)² + (x - 1)²\";"
   ]
  },
  {
   "cell_type": "markdown",
   "metadata": {},
   "source": [
    "Основные параметры методов"
   ]
  },
  {
   "cell_type": "code",
   "execution_count": null,
   "metadata": {},
   "outputs": [],
   "source": [
    "dim = 2; # Размерность задачи\n",
    "l = 2; # Начальная длина симплекса\n",
    "δ = 0.5; # Коэффициент редукции\n",
    "\n",
    "α = 1; # Коэффициент отражения\n",
    "β = 2; # Коэффициент растяжения\n",
    "γ = 0.5; # Коэффициент сжатия"
   ]
  },
  {
   "cell_type": "markdown",
   "metadata": {},
   "source": [
    "Точность: 10⁻²"
   ]
  },
  {
   "cell_type": "code",
   "execution_count": null,
   "metadata": {},
   "outputs": [],
   "source": [
    "DIR_2::String = RESULT_DIR * FUNC_DIR * EPS2_DIR;\n",
    "P_DIR_2::String = PLOT_DIR * FUNC_DIR * EPS2_DIR;"
   ]
  },
  {
   "cell_type": "markdown",
   "metadata": {},
   "source": [
    "Регулярный симплекс "
   ]
  },
  {
   "cell_type": "code",
   "execution_count": null,
   "metadata": {},
   "outputs": [],
   "source": [
    "data = regularSimplex(f, dim, startPoint, l, δ, ϵ2)\n",
    "X = data[5]\n",
    "Y = data[6]\n",
    "FILE_1::String = DIR_2 * M1\n",
    "writeToFile(FILE_1, data, startPoint, ϵ2, f_string)\n",
    "low = [floor(minimum(X)) - 1, floor(minimum(Y)) - 1]\n",
    "up = [ceil(maximum(X)) + 1, ceil(maximum(Y)) + 1]\n",
    "PLOT_1 = makeGradPlotCustom(f, low, up, X, Y, f_string, ϵ2)\n",
    "P_FILE_1 = P_DIR_2 * P_M1\n",
    "Plotly.savefig(PLOT_1, P_FILE_1)\n",
    "PLOT_1 "
   ]
  },
  {
   "cell_type": "markdown",
   "metadata": {},
   "source": [
    "Нерегулярный симплекс"
   ]
  },
  {
   "cell_type": "code",
   "execution_count": null,
   "metadata": {},
   "outputs": [],
   "source": [
    "data2 = unregularSimplex(f, dim, startPoint, l, α, β, γ, β, ϵ2)\n",
    "X = data2[5]\n",
    "Y = data2[6]\n",
    "FILE_2::String = DIR_2 * M2\n",
    "writeToFile(FILE_2, data2, startPoint, ϵ2, f_string)\n",
    "low = [floor(minimum(X)) - 1, floor(minimum(Y)) - 1]\n",
    "up = [ceil(maximum(X)) + 1, ceil(maximum(Y)) + 1]\n",
    "PLOT_2 = makeGradPlotCustom(f, low, up, X, Y, f_string, ϵ2)\n",
    "P_FILE_2 = P_DIR_2 * P_M2;\n",
    "Plotly.savefig(PLOT_2, P_FILE_2)\n",
    "PLOT_2"
   ]
  },
  {
   "cell_type": "markdown",
   "metadata": {},
   "source": [
    "Точность: 10⁻⁶"
   ]
  },
  {
   "cell_type": "code",
   "execution_count": null,
   "metadata": {},
   "outputs": [],
   "source": [
    "DIR_6::String = RESULT_DIR * FUNC_DIR * EPS6_DIR;\n",
    "P_DIR_6::String = PLOT_DIR * FUNC_DIR * EPS6_DIR;"
   ]
  },
  {
   "cell_type": "markdown",
   "metadata": {},
   "source": [
    "Регулярный симплекс"
   ]
  },
  {
   "cell_type": "code",
   "execution_count": null,
   "metadata": {},
   "outputs": [],
   "source": [
    "data4 = regularSimplex(f, dim, startPoint, l, δ, ϵ6);\n",
    "X = data4[5];\n",
    "Y = data4[6];\n",
    "FILE_4::String = DIR_6 * M1\n",
    "writeToFile(FILE_4, data4, startPoint, ϵ6, f_string)\n",
    "low = [floor(minimum(X)) - 1, floor(minimum(Y)) - 1]\n",
    "up = [ceil(maximum(X)) + 1, ceil(maximum(Y)) + 1]\n",
    "PLOT_4 = makeGradPlotCustom(f, low, up, X, Y, f_string)\n",
    "P_FILE_4 = P_DIR_6 * P_M1\n",
    "Plotly.savefig(PLOT_4, P_FILE_4)\n",
    "PLOT_4"
   ]
  },
  {
   "cell_type": "markdown",
   "metadata": {},
   "source": [
    "Нерегулярный симплекс"
   ]
  },
  {
   "cell_type": "code",
   "execution_count": null,
   "metadata": {},
   "outputs": [],
   "source": [
    "data5 = unregularSimplex(f, dim, startPoint, l, α, β, γ, β, ϵ6)\n",
    "X = data5[5]\n",
    "Y = data5[6]\n",
    "FILE_5::String = DIR_6 * M2\n",
    "writeToFile(FILE_5, data5, startPoint, ϵ6, f_string)\n",
    "low = [floor(minimum(X)) - 1, floor(minimum(Y)) - 1]\n",
    "up = [ceil(maximum(X)) + 1, ceil(maximum(Y)) + 1]\n",
    "PLOT_5 = makeGradPlotCustom(f, low, up, X, Y, f_string)\n",
    "P_FILE_5 = P_DIR_6 * P_M2;\n",
    "Plotly.savefig(PLOT_5, P_FILE_5)\n",
    "PLOT_5"
   ]
  }
 ],
 "metadata": {
  "kernelspec": {
   "display_name": "Julia 1.8.1",
   "language": "julia",
   "name": "julia-1.8"
  },
  "language_info": {
   "file_extension": ".jl",
   "mimetype": "application/julia",
   "name": "julia",
   "version": "1.8.1"
  },
  "orig_nbformat": 4
 },
 "nbformat": 4,
 "nbformat_minor": 2
}
